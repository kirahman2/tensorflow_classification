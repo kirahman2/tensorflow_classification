{
 "cells": [
  {
   "cell_type": "code",
   "execution_count": 1,
   "metadata": {},
   "outputs": [
    {
     "name": "stderr",
     "output_type": "stream",
     "text": [
      "Using TensorFlow backend.\n"
     ]
    }
   ],
   "source": [
    "from keras.optimizers import Adam\n",
    "import tensorflow as tf\n",
    "from tensorflow import keras\n",
    "import os\n",
    "import tempfile\n",
    "import matplotlib as mpl\n",
    "import matplotlib.pyplot as plt\n",
    "import numpy as np\n",
    "import pandas as pd\n",
    "import seaborn as sns\n",
    "import sklearn\n",
    "from sklearn.metrics import confusion_matrix\n",
    "from sklearn.metrics import roc_curve\n",
    "from sklearn.metrics import auc\n",
    "from sklearn.model_selection import train_test_split\n",
    "from sklearn.preprocessing import StandardScaler\n",
    "from sklearn.utils import shuffle\n",
    "from tensorflow.keras.regularizers import l1\n",
    "from tensorflow.keras.regularizers import l2\n",
    "from tensorflow.keras.regularizers import L1L2\n",
    "from keras.optimizers import Adam\n",
    "from sklearn.preprocessing import binarize\n"
   ]
  },
  {
   "cell_type": "code",
   "execution_count": 2,
   "metadata": {},
   "outputs": [],
   "source": [
    "class PreProcessing():\n",
    "    def __init__(self, list_data, target):\n",
    "        self.target = target\n",
    "        self.train_sample = list_data[0].copy()\n",
    "        self.test_sample = list_data[1].copy()\n",
    "        self.test_sample = self.shuffle_data(self.test_sample)\n",
    "        self.test_sample, self.val_sample = self._split_test_data()\n",
    "        self.train_label = self._create_target(self.train_sample)\n",
    "        self.test_label = self._create_target(self.test_sample)\n",
    "        self.val_label = self._create_target(self.val_sample)\n",
    "        self.process_data()\n",
    "        \n",
    "    def process_data(self):\n",
    "        self._print_summary()\n",
    "        self._training_sets_array()\n",
    "        self._scale_data()\n",
    "        \n",
    "    def shuffle_data(self, dataset):\n",
    "        return shuffle(dataset).reset_index(drop=True)\n",
    "    \n",
    "    def _split_test_data(self):\n",
    "        return train_test_split(self.test_sample, test_size=.2)\n",
    "        \n",
    "    def _create_target(self, dataset):\n",
    "        return np.array(dataset.pop(self.target))\n",
    "        \n",
    "    def _print_summary(self):\n",
    "        print(\"Training data shape:\", self.train_sample.shape)\n",
    "        print(\"Testing data shape:\", self.test_sample.shape)\n",
    "        print(\"Validation data shape:\", self.val_sample.shape)\n",
    "        print(\"train_label length:\", self.train_label.shape[0])\n",
    "        print(\"test_label length:\", self.test_label.shape[0])\n",
    "        print(\"val_label length:\", self.val_label.shape[0])\n",
    "        \n",
    "    def _training_sets_array(self):\n",
    "        self.train_sample = np.array(self.train_sample)\n",
    "        self.test_sample = np.array(self.test_sample)\n",
    "        self.val_sample = np.array(self.val_sample)\n",
    "        \n",
    "    def _scale_data(self):\n",
    "        scaler = StandardScaler()\n",
    "        self.train_sample = scaler.fit_transform(self.train_sample)\n",
    "        self.test_sample = scaler.transform(self.test_sample)\n",
    "        self.val_sample = scaler.transform(self.val_sample)\n"
   ]
  },
  {
   "cell_type": "code",
   "execution_count": 3,
   "metadata": {},
   "outputs": [],
   "source": [
    "class CreateModel():\n",
    "    '''creates the model\n",
    "    '''\n",
    "    def __init__(self):\n",
    "        self.filepath_chkpt = './cp.ckpt/'\n",
    "        self.train_sample = pp.train_sample\n",
    "        self.train_label = pp.train_label\n",
    "        self.test_sample = pp.test_sample\n",
    "        self.test_label = pp.test_label\n",
    "        self.val_sample = pp.val_sample\n",
    "        self.val_label = pp.val_label\n",
    "    \n",
    "    def _checkpoint_path(self):\n",
    "        checkpoint_path = \"./cp.ckpt/cp-{epoch:04d}.ckpt\"\n",
    "        return checkpoint_path\n",
    "    \n",
    "    def _define_checkpoint(self):\n",
    "        checkpoint_path = self._checkpoint_path()\n",
    "        cp_callback = tf.keras.callbacks.ModelCheckpoint(filepath=checkpoint_path, \n",
    "                                                         monitor='val_auc', \n",
    "                                                         verbose=1,\n",
    "                                                         save_best_only=False, \n",
    "                                                         save_weights_only=True,\n",
    "                                                         mode='max',\n",
    "                                                         save_freq='epoch')\n",
    "        return cp_callback\n",
    "    \n",
    "    def create_model(self, model, metrics, lr, loss):\n",
    "        'ingests and compiles model'\n",
    "        model.compile(optimizer=keras.optimizers.Adam(lr=lr), \n",
    "                      loss=loss, metrics=metrics)\n",
    "        return model\n",
    "    \n",
    "    def fit_model(self, model, epochs, fit_model=False):\n",
    "        if fit_model:\n",
    "            model = self._save_weights(model)\n",
    "            model.fit(self.train_sample, self.train_label, \n",
    "                      validation_data=(self.val_sample, self.val_label), \n",
    "                      batch_size=20, epochs=epochs, shuffle=True, verbose=2, \n",
    "                      workers=16, use_multiprocessing=True,\n",
    "                      callbacks=[cp_callback])\n",
    "            \n",
    "        if ~fit_model:\n",
    "            print(\"fit_model method is set to false.\")\n",
    "    \n",
    "    def _save_weights(self, model):\n",
    "        checkpoint_path = self._checkpoint_path()\n",
    "        model.save_weights(checkpoint_path.format(epoch=0))\n",
    "        return model\n"
   ]
  },
  {
   "cell_type": "code",
   "execution_count": 4,
   "metadata": {},
   "outputs": [],
   "source": [
    "class TuneThreshold():\n",
    "    '''Fine tuning each epoch\n",
    "    '''\n",
    "    def __init__(self):\n",
    "        self.current_thres = []\n",
    "        self.top_score = []\n",
    "        self.df_all_results = pd.DataFrame()\n",
    "        self.best_chkpt = []\n",
    "        self.best_threshold = []\n",
    "        \n",
    "    def tune_threshold(self, model):\n",
    "        y_pred = model.predict(pp.test_sample, batch_size=10, verbose=0)\n",
    "        \n",
    "        list_threshold = [.05, .1, .15, .2, .25, .3, .35, .4, .45, \n",
    "                          .5, .55, .6, .65, .7, .75, .8, .85, .9]\n",
    "        self._tune_thres_methods(list_threshold, y_pred)\n",
    "        list_tune_thres = self._fine_tune_thres()\n",
    "        self._tune_thres_methods(list_tune_thres, y_pred)\n",
    "        list_tune_thres = self._fine_tune_thres_2()\n",
    "        self._tune_thres_methods(list_tune_thres, y_pred)        \n",
    "        self._create_results_df()\n",
    "        self._save_best_thres()\n",
    "    \n",
    "        \n",
    "    def _tune_thres_methods(self, list_threshold, y_pred):\n",
    "        list_auc_score = self._calc_thres_score(list_threshold, y_pred)        \n",
    "        df_results = self._create_df_results(list_auc_score, list_threshold)\n",
    "        self._calc_best_score(df_results)\n",
    "        \n",
    "    def _calc_thres_score(self, list_threshold, y_pred):\n",
    "        list_auc_score = []\n",
    "        for thres in list_threshold:\n",
    "            y_pred_class = binarize(y_pred, thres)\n",
    "            fpr, tpr, thresholds = roc_curve(pp.test_label, \n",
    "                                             y_pred_class, \n",
    "                                             pos_label=1)\n",
    "            auc_score = auc(fpr, tpr)\n",
    "            list_auc_score.append(auc_score)\n",
    "        return list_auc_score\n",
    "    \n",
    "    def _create_df_results(self, list_auc_score, list_threshold):\n",
    "        col_thres = pd.Series(list_threshold, name='current_thres')\n",
    "        col_auc = pd.Series(list_auc_score, name='auc_score')\n",
    "        df_results = pd.concat([col_thres, col_auc], axis=1)\n",
    "        return df_results\n",
    "    \n",
    "    def _calc_best_score(self, df_results):\n",
    "        val_max_auc = df_results.auc_score.max()\n",
    "        df_max_auc = df_results[df_results.auc_score == val_max_auc]\n",
    "        df_max_auc_index = df_max_auc.index[0]\n",
    "        self.current_thres = df_results.loc[df_max_auc_index, 'current_thres']\n",
    "        self.top_score = val_max_auc \n",
    "    \n",
    "    def _fine_tune_thres(self):\n",
    "        list_tune_thres = []\n",
    "        temp_val_neg = self.current_thres\n",
    "        temp_val_pos = self.current_thres\n",
    "        for val in range(0,5):\n",
    "            temp_val_neg = temp_val_neg - .01\n",
    "            temp_val_pos = temp_val_pos + .01\n",
    "            list_tune_thres.append(round(temp_val_neg, 2))\n",
    "            list_tune_thres.append(round(temp_val_pos, 2))\n",
    "        list_tune_thres.append(round(self.current_thres, 2))    \n",
    "        list_tune_thres.sort()\n",
    "        return list_tune_thres\n",
    "    \n",
    "    def _fine_tune_thres_2(self):\n",
    "        list_tune_thres = []\n",
    "        temp_val_neg = self.current_thres\n",
    "        temp_val_pos = self.current_thres\n",
    "        for val in range(0,5):\n",
    "            temp_val_neg = temp_val_neg - .001\n",
    "            temp_val_pos = temp_val_pos + .001\n",
    "            list_tune_thres.append(round(temp_val_neg, 3))\n",
    "            list_tune_thres.append(round(temp_val_pos, 3))\n",
    "        list_tune_thres.append(round(self.current_thres, 3))    \n",
    "        list_tune_thres.sort()\n",
    "        return list_tune_thres\n",
    "    \n",
    "    def _create_results_df(self):\n",
    "        col_chkpt = pd.Series(sc.chkpt_num, name='chkpt_epoch')\n",
    "        col_thres = pd.Series(self.current_thres, name='best_threshold')\n",
    "        col_auc = pd.Series(self.top_score, name='auc_score')\n",
    "        df_temp = pd.concat([col_chkpt, col_thres, col_auc], axis=1)\n",
    "        print(df_temp)\n",
    "        self.df_all_results = pd.concat([self.df_all_results, df_temp], axis=0)\n",
    "        \n",
    "    def _save_best_thres(self):\n",
    "        dataset = self.df_all_results.copy()\n",
    "        val_best_auc = dataset.auc_score.max()\n",
    "        val_best_chkpt = dataset[dataset.auc_score==val_best_auc].chkpt_epoch\n",
    "        val_best_thres = dataset[dataset.auc_score==val_best_auc].best_threshold\n",
    "        self.best_chkpt = val_best_chkpt[0]\n",
    "        self.best_threshold = val_best_thres[0]\n"
   ]
  },
  {
   "cell_type": "code",
   "execution_count": 5,
   "metadata": {},
   "outputs": [],
   "source": [
    "class ScoreCheckpoints():\n",
    "    '''Loading and testing each checkpoint\n",
    "    \n",
    "    '''\n",
    "    def __init__(self):\n",
    "        self.checkpoint_path = './cp.ckpt/'\n",
    "        self.list_auc_score = []\n",
    "        self.list_epoch = []\n",
    "        self.chkpt_num = []\n",
    "    \n",
    "    def create_chkpt_list(self):\n",
    "        list_checkpoints = []\n",
    "        for file in os.listdir(self.checkpoint_path):\n",
    "            val_checkpoint = file[0:12]\n",
    "            if file[0:3]=='cp-' and val_checkpoint not in list_checkpoints:\n",
    "                list_checkpoints.append(val_checkpoint)\n",
    "        list_checkpoints.sort()\n",
    "        return list_checkpoints\n",
    "    \n",
    "    def score_chkpts(self):\n",
    "        list_checkpoints = self.create_chkpt_list()\n",
    "        list_epoch = []\n",
    "        for chkpt in list_checkpoints[67:68]: # setting 66:67 for fast testing\n",
    "            filepath_chkpt = self.checkpoint_path + chkpt\n",
    "            model = mod.create_model(MODEL_SEQ, METRICS, LR, LOSS)\n",
    "            model.load_weights(filepath_chkpt)\n",
    "            rounded_predictions = model.predict_classes(pp.test_sample, batch_size=10, verbose=0)\n",
    "            auc_score = self._calc_chkpt_score(rounded_predictions)\n",
    "            self.chkpt_num = chkpt[3:7]\n",
    "            tt.tune_threshold(model)\n",
    "            self._plot_auc_scores()\n",
    "        # printing final dataframe results\n",
    "        print(tt.df_all_results)\n",
    "        self._plot_auc_scores()\n",
    "            \n",
    "    def _calc_chkpt_score(self, rounded_predictions):\n",
    "        fpr, tpr, thresholds = roc_curve(pp.test_label, rounded_predictions, pos_label=1)\n",
    "        # cm = confusion_matrix(pp.test_label, rounded_predictions) #not needed for now \n",
    "        auc_score = auc(fpr, tpr)\n",
    "        self.list_auc_score.append(auc_score)\n",
    "        return auc_score\n",
    "    \n",
    "    def _plot_auc_scores(self):\n",
    "        list_epoch = []\n",
    "        for val in range(1, len(self.list_auc_score) + 1):\n",
    "            list_epoch.append(val)\n",
    "        plt.plot(list_epoch, self.list_auc_score)\n",
    "        plt.title(\"Checkpoint Versus AUC Score\")\n",
    "        plt.ylabel(\"AUC Score\")\n",
    "        plt.xlabel(\"Checkpoint / Epoch\")\n"
   ]
  },
  {
   "cell_type": "code",
   "execution_count": 6,
   "metadata": {
    "scrolled": true
   },
   "outputs": [],
   "source": [
    "class SaveModel():\n",
    "    def __init__(self):\n",
    "        self.chkpt_file_path = self._create_file_path()\n",
    "        self.saved_model_file_path = mod.filepath_chkpt + 'saved_model/'\n",
    "    \n",
    "    def _create_file_path(self):\n",
    "        chkpt_file_path = mod.filepath_chkpt + 'cp-' + tt.best_chkpt + '.ckpt'\n",
    "        return chkpt_file_path\n",
    "    \n",
    "    def save_best_model(self):\n",
    "        model = self._load_model_weights()\n",
    "        save_model_file_path = mod.filepath_chkpt + 'saved_model/' #delete this after fixing other bug\n",
    "        tf.saved_model.save(model, self.saved_model_file_path)\n",
    "    \n",
    "    def _load_model_weights(self):\n",
    "        model = mod.create_model(MODEL_SEQ, METRICS, LR, LOSS)\n",
    "        model.load_weights(self.chkpt_file_path)\n",
    "        return model\n",
    "        \n",
    "    def load_saved_model(self, summary=False):\n",
    "        model = tf.keras.models.load_model(self.saved_model_file_path)\n",
    "        if summary:\n",
    "            print('\\n')\n",
    "            print(model.summary())\n",
    "            print('\\n')\n",
    "        return model\n",
    "\n",
    "    def predict_binarize(self, model, test_data):\n",
    "        y_pred = model.predict(pp.test_sample, batch_size=10, verbose=0)\n",
    "        y_pred_class = binarize(y_pred, tt.best_threshold)\n",
    "        fpr, tpr, thresholds = roc_curve(pp.test_label, y_pred_class, pos_label=1)\n",
    "        auc_score = auc(fpr, tpr)\n",
    "        print('\\nauc for best model and best threshold:', auc_score)\n",
    "        return y_pred_class\n"
   ]
  },
  {
   "cell_type": "markdown",
   "metadata": {},
   "source": [
    "### Load Data"
   ]
  },
  {
   "cell_type": "code",
   "execution_count": 7,
   "metadata": {},
   "outputs": [],
   "source": [
    "filepath_data = '/Users/krahman/work/tutorials/tensorflow_classification/data/'\n",
    "\n",
    "df_raw = pd.read_csv(filepath_data + 'mod_x_train.csv').drop('Unnamed: 0', axis=1) #del once finished testing\n",
    "\n",
    "train_sample = pd.read_csv(filepath_data + 'mod_x_train.csv').drop('Unnamed: 0', axis=1)\n",
    "train_label = pd.read_csv(filepath_data + 'mod_y_train.csv').drop('Unnamed: 0', axis=1)\n",
    "train_sample = pd.concat([train_sample, train_label], axis=1)\n",
    "test_sample = pd.read_csv(filepath_data + 'mod_x_test.csv').drop('Unnamed: 0', axis=1)\n",
    "test_label = pd.read_csv(filepath_data + 'mod_y_test.csv').drop('index', axis=1)\n",
    "test_sample = pd.concat([test_sample, test_label], axis=1)\n",
    "\n",
    "target = '0'\n",
    "\n",
    "list_data = [train_sample, test_sample]\n"
   ]
  },
  {
   "cell_type": "markdown",
   "metadata": {},
   "source": [
    "### Instantiate PreProcessing Class"
   ]
  },
  {
   "cell_type": "code",
   "execution_count": 8,
   "metadata": {},
   "outputs": [
    {
     "name": "stdout",
     "output_type": "stream",
     "text": [
      "Training data shape: (190000, 233)\n",
      "Testing data shape: (47243, 233)\n",
      "Validation data shape: (11811, 233)\n",
      "train_label length: 190000\n",
      "test_label length: 47243\n",
      "val_label length: 11811\n"
     ]
    }
   ],
   "source": [
    "pp = PreProcessing(list_data, target)"
   ]
  },
  {
   "cell_type": "markdown",
   "metadata": {},
   "source": [
    "### Instantiate CreateModel Class"
   ]
  },
  {
   "cell_type": "code",
   "execution_count": 9,
   "metadata": {},
   "outputs": [],
   "source": [
    "mod = CreateModel()"
   ]
  },
  {
   "cell_type": "markdown",
   "metadata": {},
   "source": [
    "### Defining Neural Network Layers"
   ]
  },
  {
   "cell_type": "code",
   "execution_count": 10,
   "metadata": {},
   "outputs": [],
   "source": [
    "DF_TRAIN = pp.train_sample\n",
    "\n",
    "neg, pos = np.bincount(train_sample[target])\n",
    "initial_bias = np.log([pos/neg])\n",
    "OUTPUT_BIAS = tf.keras.initializers.Constant(initial_bias)\n",
    "LOSS = keras.losses.BinaryCrossentropy()\n",
    "LR = .0001\n",
    "METRICS = [keras.metrics.AUC(name='auc'),\n",
    "           keras.metrics.FalsePositives(name='fp'),\n",
    "           keras.metrics.FalseNegatives(name='fn')]\n",
    "\n",
    "MODEL_SEQ = keras.Sequential([keras.layers.Dense(256, activation='relu', kernel_regularizer=l2(0.0001), input_shape=(DF_TRAIN.shape[-1],)),\n",
    "                              keras.layers.Dense(256, activation='relu', kernel_regularizer=l2(0.0001)),\n",
    "                              keras.layers.Dense(256, activation='relu', kernel_regularizer=l2(0.0001)),\n",
    "                              keras.layers.Dense(256, activation='relu', kernel_regularizer=l2(0.0001)),\n",
    "                              keras.layers.Dense(256, activation='relu', kernel_regularizer=l2(0.0001)),\n",
    "                              keras.layers.Dense(256, activation='relu', kernel_regularizer=l2(0.0001)),\n",
    "                              keras.layers.Dense(256, activation='relu', kernel_regularizer=l2(0.0001)),\n",
    "                              keras.layers.Dense(256, activation='relu', kernel_regularizer=l2(0.0001)),\n",
    "                              keras.layers.Dense(256, activation='relu', kernel_regularizer=l2(0.0001)),\n",
    "                              keras.layers.Dropout(.5),\n",
    "                              keras.layers.Dense(1, activation='sigmoid', bias_initializer=OUTPUT_BIAS)])\n",
    "\n",
    "# MODEL_SEQ = keras.Sequential([keras.layers.Dense(16, activation='relu', kernel_regularizer=l2(0.0001), input_shape=(DF_TRAIN.shape[-1],)),\n",
    "#                           keras.layers.Dense(16, activation='relu', kernel_regularizer=l2(0.0001)),\n",
    "#                           keras.layers.Dropout(.5),\n",
    "#                           keras.layers.Dense(1, activation='sigmoid', bias_initializer=OUTPUT_BIAS)])\n"
   ]
  },
  {
   "cell_type": "markdown",
   "metadata": {},
   "source": [
    "### Creating Model"
   ]
  },
  {
   "cell_type": "code",
   "execution_count": 11,
   "metadata": {},
   "outputs": [],
   "source": [
    "model = mod.create_model(MODEL_SEQ, METRICS, LR, LOSS)"
   ]
  },
  {
   "cell_type": "markdown",
   "metadata": {},
   "source": [
    "### Fitting Model"
   ]
  },
  {
   "cell_type": "code",
   "execution_count": 12,
   "metadata": {},
   "outputs": [
    {
     "name": "stdout",
     "output_type": "stream",
     "text": [
      "fit_model method is set to false.\n"
     ]
    }
   ],
   "source": [
    "mod.fit_model(model, epochs=100, fit_model=False) #comment out until next fitting"
   ]
  },
  {
   "cell_type": "markdown",
   "metadata": {},
   "source": [
    "### Instantiate TuneThreshold Class"
   ]
  },
  {
   "cell_type": "code",
   "execution_count": 13,
   "metadata": {},
   "outputs": [],
   "source": [
    "tt = TuneThreshold()"
   ]
  },
  {
   "cell_type": "markdown",
   "metadata": {},
   "source": [
    "### Instantiate ScoreCheckpoints Class"
   ]
  },
  {
   "cell_type": "code",
   "execution_count": 14,
   "metadata": {},
   "outputs": [],
   "source": [
    "sc = ScoreCheckpoints()"
   ]
  },
  {
   "cell_type": "markdown",
   "metadata": {},
   "source": [
    "### Score Checkpoints"
   ]
  },
  {
   "cell_type": "code",
   "execution_count": 15,
   "metadata": {
    "scrolled": true
   },
   "outputs": [
    {
     "name": "stdout",
     "output_type": "stream",
     "text": [
      "  chkpt_epoch  best_threshold  auc_score\n",
      "0        0067           0.168   0.867784\n",
      "  chkpt_epoch  best_threshold  auc_score\n",
      "0        0067           0.168   0.867784\n"
     ]
    },
    {
     "data": {
      "image/png": "[encoded data removed]",
      "text/plain": [
       "<Figure size 432x288 with 1 Axes>"
      ]
     },
     "metadata": {
      "needs_background": "light"
     },
     "output_type": "display_data"
    }
   ],
   "source": [
    "list_checkpoints = sc.create_chkpt_list()\n",
    "sc.score_chkpts()"
   ]
  },
  {
   "cell_type": "code",
   "execution_count": 16,
   "metadata": {
    "scrolled": true
   },
   "outputs": [
    {
     "name": "stdout",
     "output_type": "stream",
     "text": [
      "WARNING:tensorflow:Unresolved object in checkpoint: (root).optimizer.iter\n",
      "WARNING:tensorflow:Unresolved object in checkpoint: (root).optimizer.beta_1\n",
      "WARNING:tensorflow:Unresolved object in checkpoint: (root).optimizer.beta_2\n",
      "WARNING:tensorflow:Unresolved object in checkpoint: (root).optimizer.decay\n",
      "WARNING:tensorflow:Unresolved object in checkpoint: (root).optimizer.learning_rate\n",
      "WARNING:tensorflow:A checkpoint was restored (e.g. tf.train.Checkpoint.restore or tf.keras.Model.load_weights) but not all checkpointed values were used. See above for specific issues. Use expect_partial() on the load status object, e.g. tf.train.Checkpoint.restore(...).expect_partial(), to silence these warnings, or use assert_consumed() to make the check explicit. See https://www.tensorflow.org/alpha/guide/checkpoints#loading_mechanics for details.\n",
      "WARNING:tensorflow:From /Users/krahman/opt/anaconda3/lib/python3.7/site-packages/tensorflow_core/python/ops/resource_variable_ops.py:1781: calling BaseResourceVariable.__init__ (from tensorflow.python.ops.resource_variable_ops) with constraint is deprecated and will be removed in a future version.\n",
      "Instructions for updating:\n",
      "If using Keras pass *_constraint arguments to layers.\n",
      "INFO:tensorflow:Assets written to: ./cp.ckpt/saved_model/assets\n",
      "\n",
      "\n",
      "Model: \"sequential\"\n",
      "_________________________________________________________________\n",
      "Layer (type)                 Output Shape              Param #   \n",
      "=================================================================\n",
      "dense (Dense)                (None, 256)               59904     \n",
      "_________________________________________________________________\n",
      "dense_1 (Dense)              (None, 256)               65792     \n",
      "_________________________________________________________________\n",
      "dense_2 (Dense)              (None, 256)               65792     \n",
      "_________________________________________________________________\n",
      "dense_3 (Dense)              (None, 256)               65792     \n",
      "_________________________________________________________________\n",
      "dense_4 (Dense)              (None, 256)               65792     \n",
      "_________________________________________________________________\n",
      "dense_5 (Dense)              (None, 256)               65792     \n",
      "_________________________________________________________________\n",
      "dense_6 (Dense)              (None, 256)               65792     \n",
      "_________________________________________________________________\n",
      "dense_7 (Dense)              (None, 256)               65792     \n",
      "_________________________________________________________________\n",
      "dense_8 (Dense)              (None, 256)               65792     \n",
      "_________________________________________________________________\n",
      "dropout (Dropout)            (None, 256)               0         \n",
      "_________________________________________________________________\n",
      "dense_9 (Dense)              (None, 1)                 257       \n",
      "=================================================================\n",
      "Total params: 586,497\n",
      "Trainable params: 586,497\n",
      "Non-trainable params: 0\n",
      "_________________________________________________________________\n",
      "None\n",
      "\n",
      "\n",
      "\n",
      "auc for best model and best threshold: 0.8677835633478899\n"
     ]
    },
    {
     "data": {
      "text/plain": [
       "array([[0.],\n",
       "       [0.],\n",
       "       [0.],\n",
       "       ...,\n",
       "       [0.],\n",
       "       [0.],\n",
       "       [0.]], dtype=float32)"
      ]
     },
     "execution_count": 16,
     "metadata": {},
     "output_type": "execute_result"
    }
   ],
   "source": [
    "sm = SaveModel()\n",
    "sm.save_best_model()\n",
    "model_1 = sm.load_saved_model(summary=True)\n",
    "y_pred = sm.predict_binarize(model_1, pp.test_sample)\n",
    "y_pred"
   ]
  }
 ],
 "metadata": {
  "kernelspec": {
   "display_name": "Python 3",
   "language": "python",
   "name": "python3"
  },
  "language_info": {
   "codemirror_mode": {
    "name": "ipython",
    "version": 3
   },
   "file_extension": ".py",
   "mimetype": "text/x-python",
   "name": "python",
   "nbconvert_exporter": "python",
   "pygments_lexer": "ipython3",
   "version": "3.7.4"
  }
 },
 "nbformat": 4,
 "nbformat_minor": 2
}
